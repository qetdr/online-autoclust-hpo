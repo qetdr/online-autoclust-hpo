{
 "cells": [
  {
   "cell_type": "markdown",
   "id": "9cbcf849",
   "metadata": {},
   "source": [
    "# Main Experiment Results"
   ]
  },
  {
   "cell_type": "markdown",
   "id": "bfb9336f",
   "metadata": {},
   "source": [
    "## Setup"
   ]
  },
  {
   "cell_type": "code",
   "execution_count": 1,
   "id": "1c843c6c",
   "metadata": {},
   "outputs": [],
   "source": [
    "import pickle\n",
    "from plotnine import *\n",
    "from utils import produce_results_table, compute_friedman_posthocs, results_boxplot"
   ]
  },
  {
   "attachments": {},
   "cell_type": "markdown",
   "id": "9f5517a8",
   "metadata": {},
   "source": [
    "## Data Import\n",
    "Because the `pickle` file with results is more than 180 MB, it is temporarily stored in my [personal Google Drive directory](https://drive.google.com/file/d/1oWoh_zCbYyndqBhLT5eT7uVN8neEtVE-/view?usp=share_link).\n",
    "\n",
    "**Please download the file to your working directory in order to proceed with results analysis!**\n"
   ]
  },
  {
   "cell_type": "code",
   "execution_count": 2,
   "id": "f778936a",
   "metadata": {},
   "outputs": [
    {
     "name": "stdout",
     "output_type": "stream",
     "text": [
      "Results in a wide data frame:\n"
     ]
    },
    {
     "data": {
      "text/html": [
       "<div>\n",
       "<style scoped>\n",
       "    .dataframe tbody tr th:only-of-type {\n",
       "        vertical-align: middle;\n",
       "    }\n",
       "\n",
       "    .dataframe tbody tr th {\n",
       "        vertical-align: top;\n",
       "    }\n",
       "\n",
       "    .dataframe thead th {\n",
       "        text-align: right;\n",
       "    }\n",
       "</style>\n",
       "<table border=\"1\" class=\"dataframe\">\n",
       "  <thead>\n",
       "    <tr style=\"text-align: right;\">\n",
       "      <th></th>\n",
       "      <th>df</th>\n",
       "      <th>def1</th>\n",
       "      <th>def2</th>\n",
       "      <th>hpo1</th>\n",
       "      <th>hpo2</th>\n",
       "      <th>ens</th>\n",
       "      <th>runtime</th>\n",
       "    </tr>\n",
       "  </thead>\n",
       "  <tbody>\n",
       "    <tr>\n",
       "      <th>0</th>\n",
       "      <td>SET2</td>\n",
       "      <td>0.673304</td>\n",
       "      <td>0.559236</td>\n",
       "      <td>0.762374</td>\n",
       "      <td>0.675882</td>\n",
       "      <td>0.767482</td>\n",
       "      <td>361.431677</td>\n",
       "    </tr>\n",
       "    <tr>\n",
       "      <th>1</th>\n",
       "      <td>SET2</td>\n",
       "      <td>0.673304</td>\n",
       "      <td>0.567828</td>\n",
       "      <td>0.765481</td>\n",
       "      <td>0.653062</td>\n",
       "      <td>0.810868</td>\n",
       "      <td>350.669751</td>\n",
       "    </tr>\n",
       "    <tr>\n",
       "      <th>2</th>\n",
       "      <td>SET2</td>\n",
       "      <td>0.673304</td>\n",
       "      <td>0.558099</td>\n",
       "      <td>0.848504</td>\n",
       "      <td>0.532291</td>\n",
       "      <td>0.848504</td>\n",
       "      <td>355.538788</td>\n",
       "    </tr>\n",
       "    <tr>\n",
       "      <th>3</th>\n",
       "      <td>SET2</td>\n",
       "      <td>0.673304</td>\n",
       "      <td>0.580329</td>\n",
       "      <td>0.769031</td>\n",
       "      <td>0.675961</td>\n",
       "      <td>0.769027</td>\n",
       "      <td>354.429101</td>\n",
       "    </tr>\n",
       "    <tr>\n",
       "      <th>4</th>\n",
       "      <td>SET2</td>\n",
       "      <td>0.673304</td>\n",
       "      <td>0.593854</td>\n",
       "      <td>0.875742</td>\n",
       "      <td>0.676242</td>\n",
       "      <td>0.875742</td>\n",
       "      <td>353.085142</td>\n",
       "    </tr>\n",
       "  </tbody>\n",
       "</table>\n",
       "</div>"
      ],
      "text/plain": [
       "     df      def1      def2      hpo1      hpo2       ens     runtime\n",
       "0  SET2  0.673304  0.559236  0.762374  0.675882  0.767482  361.431677\n",
       "1  SET2  0.673304  0.567828  0.765481  0.653062  0.810868  350.669751\n",
       "2  SET2  0.673304  0.558099  0.848504  0.532291  0.848504  355.538788\n",
       "3  SET2  0.673304  0.580329  0.769031  0.675961  0.769027  354.429101\n",
       "4  SET2  0.673304  0.593854  0.875742  0.676242  0.875742  353.085142"
      ]
     },
     "execution_count": 2,
     "metadata": {},
     "output_type": "execute_result"
    }
   ],
   "source": [
    "with open('./results/results_dict.pkl', 'rb') as f:\n",
    "    loaded_results_dict = pickle.load(f)\n",
    "    \n",
    "results_wide, results_long = produce_results_table(loaded_results_dict)\n",
    "\n",
    "print('Results in a wide data frame:')\n",
    "results_wide.head()"
   ]
  },
  {
   "cell_type": "code",
   "execution_count": 3,
   "id": "3a74780f",
   "metadata": {
    "scrolled": true
   },
   "outputs": [
    {
     "name": "stdout",
     "output_type": "stream",
     "text": [
      "Results in a long data frame:\n"
     ]
    },
    {
     "data": {
      "text/html": [
       "<div>\n",
       "<style scoped>\n",
       "    .dataframe tbody tr th:only-of-type {\n",
       "        vertical-align: middle;\n",
       "    }\n",
       "\n",
       "    .dataframe tbody tr th {\n",
       "        vertical-align: top;\n",
       "    }\n",
       "\n",
       "    .dataframe thead th {\n",
       "        text-align: right;\n",
       "    }\n",
       "</style>\n",
       "<table border=\"1\" class=\"dataframe\">\n",
       "  <thead>\n",
       "    <tr style=\"text-align: right;\">\n",
       "      <th></th>\n",
       "      <th>df</th>\n",
       "      <th>model</th>\n",
       "      <th>ARI_M</th>\n",
       "    </tr>\n",
       "  </thead>\n",
       "  <tbody>\n",
       "    <tr>\n",
       "      <th>0</th>\n",
       "      <td>SET2</td>\n",
       "      <td>DEF: KM</td>\n",
       "      <td>0.673304</td>\n",
       "    </tr>\n",
       "    <tr>\n",
       "      <th>1</th>\n",
       "      <td>SET2</td>\n",
       "      <td>DEF: KM</td>\n",
       "      <td>0.673304</td>\n",
       "    </tr>\n",
       "    <tr>\n",
       "      <th>2</th>\n",
       "      <td>SET2</td>\n",
       "      <td>DEF: KM</td>\n",
       "      <td>0.673304</td>\n",
       "    </tr>\n",
       "    <tr>\n",
       "      <th>3</th>\n",
       "      <td>SET2</td>\n",
       "      <td>DEF: KM</td>\n",
       "      <td>0.673304</td>\n",
       "    </tr>\n",
       "    <tr>\n",
       "      <th>4</th>\n",
       "      <td>SET2</td>\n",
       "      <td>DEF: KM</td>\n",
       "      <td>0.673304</td>\n",
       "    </tr>\n",
       "  </tbody>\n",
       "</table>\n",
       "</div>"
      ],
      "text/plain": [
       "     df    model     ARI_M\n",
       "0  SET2  DEF: KM  0.673304\n",
       "1  SET2  DEF: KM  0.673304\n",
       "2  SET2  DEF: KM  0.673304\n",
       "3  SET2  DEF: KM  0.673304\n",
       "4  SET2  DEF: KM  0.673304"
      ]
     },
     "execution_count": 3,
     "metadata": {},
     "output_type": "execute_result"
    }
   ],
   "source": [
    "print('Results in a long data frame:')\n",
    "results_long.head()"
   ]
  },
  {
   "cell_type": "markdown",
   "id": "f595346c",
   "metadata": {},
   "source": [
    "## Friedman Test Results"
   ]
  },
  {
   "cell_type": "code",
   "execution_count": 4,
   "id": "b8529ab2",
   "metadata": {
    "scrolled": true
   },
   "outputs": [
    {
     "name": "stdout",
     "output_type": "stream",
     "text": [
      "SET1\n",
      "Friedman X2: 329.121(4), p = 0.0 \n",
      "Average ARI scores for \n",
      "[DEF KMeans, DEF STREAMKMeans, Best HPO Sil, Best HPO CHI, Ensemble]\n",
      "[0.828 0.801 0.986 0.938 0.995]\n",
      "[0.    0.04  0.047 0.083 0.029]\n",
      "\n",
      "SET2\n",
      "Friedman X2: 354.0(4), p = 0.0 \n",
      "Average ARI scores for \n",
      "[DEF KMeans, DEF STREAMKMeans, Best HPO Sil, Best HPO CHI, Ensemble]\n",
      "[0.673 0.568 0.816 0.659 0.825]\n",
      "[0.    0.022 0.048 0.042 0.039]\n",
      "\n",
      "SET3\n",
      "Friedman X2: 367.976(4), p = 0.0 \n",
      "Average ARI scores for \n",
      "[DEF KMeans, DEF STREAMKMeans, Best HPO Sil, Best HPO CHI, Ensemble]\n",
      "[0.316 0.293 0.644 0.171 0.655]\n",
      "[0.    0.024 0.041 0.05  0.044]\n",
      "\n",
      "SET4\n",
      "Friedman X2: 368.538(4), p = 0.0 \n",
      "Average ARI scores for \n",
      "[DEF KMeans, DEF STREAMKMeans, Best HPO Sil, Best HPO CHI, Ensemble]\n",
      "[0.311 0.294 0.821 0.155 0.834]\n",
      "[0.    0.023 0.038 0.013 0.038]\n",
      "\n",
      "SET5\n",
      "Friedman X2: 229.457(4), p = 0.0 \n",
      "Average ARI scores for \n",
      "[DEF KMeans, DEF STREAMKMeans, Best HPO Sil, Best HPO CHI, Ensemble]\n",
      "[0.361 0.404 0.276 0.295 0.253]\n",
      "[0.015 0.044 0.053 0.145 0.05 ]\n",
      "\n",
      "SET6\n",
      "Friedman X2: 214.54(4), p = 0.0 \n",
      "Average ARI scores for \n",
      "[DEF KMeans, DEF STREAMKMeans, Best HPO Sil, Best HPO CHI, Ensemble]\n",
      "[0.359 0.409 0.279 0.289 0.253]\n",
      "[0.019 0.052 0.057 0.136 0.052]\n",
      "\n"
     ]
    }
   ],
   "source": [
    "stat_tests = compute_friedman_posthocs(results_wide)\n",
    "\n",
    "for df_name in stat_tests.keys():\n",
    "    \n",
    "    print(df_name)\n",
    "    print(f\"Friedman X2: {round(stat_tests[df_name]['friedman_stat'],3)}(4), \" \n",
    "          f\"p = {stat_tests[df_name]['friedman_p']} \")\n",
    "    print('Average ARI scores for ')\n",
    "    print('[DEF KMeans, DEF STREAMKMeans, Best HPO Sil, Best HPO CHI, Ensemble]')\n",
    "    print(f\"{stat_tests[df_name]['M_ARI']}\")\n",
    "    print(stat_tests[df_name]['SD_ARI'])\n",
    "    print() "
   ]
  },
  {
   "cell_type": "markdown",
   "id": "a156220b",
   "metadata": {},
   "source": [
    "## Nemenyi Post-Hoc Test Results"
   ]
  },
  {
   "cell_type": "code",
   "execution_count": 5,
   "id": "f5369147",
   "metadata": {},
   "outputs": [
    {
     "name": "stdout",
     "output_type": "stream",
     "text": [
      "SET1\n",
      "          def1      def2     hpo1      hpo2       ens\n",
      "def1  1.000000  0.015044  0.00100  0.001000  0.001000\n",
      "def2  0.015044  1.000000  0.00100  0.001000  0.001000\n",
      "hpo1  0.001000  0.001000  1.00000  0.046990  0.900000\n",
      "hpo2  0.001000  0.001000  0.04699  1.000000  0.010426\n",
      "ens   0.001000  0.001000  0.90000  0.010426  1.000000\n",
      "\n",
      "SET2\n",
      "       def1   def2      hpo1   hpo2       ens\n",
      "def1  1.000  0.001  0.001000  0.900  0.001000\n",
      "def2  0.001  1.000  0.001000  0.001  0.001000\n",
      "hpo1  0.001  0.001  1.000000  0.001  0.796217\n",
      "hpo2  0.900  0.001  0.001000  1.000  0.001000\n",
      "ens   0.001  0.001  0.796217  0.001  1.000000\n",
      "\n",
      "SET3\n",
      "          def1      def2     hpo1   hpo2      ens\n",
      "def1  1.000000  0.003195  0.00100  0.001  0.00100\n",
      "def2  0.003195  1.000000  0.00100  0.001  0.00100\n",
      "hpo1  0.001000  0.001000  1.00000  0.001  0.02625\n",
      "hpo2  0.001000  0.001000  0.00100  1.000  0.00100\n",
      "ens   0.001000  0.001000  0.02625  0.001  1.00000\n",
      "\n",
      "SET4\n",
      "          def1      def2      hpo1   hpo2       ens\n",
      "def1  1.000000  0.238822  0.001000  0.001  0.001000\n",
      "def2  0.238822  1.000000  0.001000  0.001  0.001000\n",
      "hpo1  0.001000  0.001000  1.000000  0.001  0.381128\n",
      "hpo2  0.001000  0.001000  0.001000  1.000  0.001000\n",
      "ens   0.001000  0.001000  0.381128  0.001  1.000000\n",
      "\n",
      "SET5\n",
      "         def1   def2      hpo1      hpo2    ens\n",
      "def1  1.00000  0.001  0.001000  0.542410  0.001\n",
      "def2  0.00100  1.000  0.001000  0.001000  0.001\n",
      "hpo1  0.00100  0.001  1.000000  0.002941  0.001\n",
      "hpo2  0.54241  0.001  0.002941  1.000000  0.001\n",
      "ens   0.00100  0.001  0.001000  0.001000  1.000\n",
      "\n",
      "SET6\n",
      "          def1   def2      hpo1      hpo2    ens\n",
      "def1  1.000000  0.001  0.001000  0.015044  0.001\n",
      "def2  0.001000  1.000  0.001000  0.001000  0.001\n",
      "hpo1  0.001000  0.001  1.000000  0.477403  0.001\n",
      "hpo2  0.015044  0.001  0.477403  1.000000  0.001\n",
      "ens   0.001000  0.001  0.001000  0.001000  1.000\n",
      "\n"
     ]
    }
   ],
   "source": [
    "for df_name in stat_tests.keys(): \n",
    "    print(df_name)\n",
    "    print(stat_tests[df_name]['posthocs_ps'])\n",
    "    print()\n",
    "    "
   ]
  },
  {
   "cell_type": "markdown",
   "id": "da89206e",
   "metadata": {},
   "source": [
    "## Average Performances Boxplot"
   ]
  },
  {
   "cell_type": "code",
   "execution_count": 6,
   "id": "d77011f0",
   "metadata": {},
   "outputs": [
    {
     "data": {
      "image/png": "[encoded data removed]",
      "text/plain": [
       "<Figure size 600x600 with 6 Axes>"
      ]
     },
     "metadata": {},
     "output_type": "display_data"
    },
    {
     "data": {
      "text/plain": [
       "<ggplot: (671420230)>"
      ]
     },
     "execution_count": 6,
     "metadata": {},
     "output_type": "execute_result"
    }
   ],
   "source": [
    "fig = results_boxplot(results_long)\n",
    "fig"
   ]
  },
  {
   "cell_type": "code",
   "execution_count": 8,
   "id": "d1c4f000",
   "metadata": {},
   "outputs": [
    {
     "name": "stderr",
     "output_type": "stream",
     "text": [
      "/opt/homebrew/lib/python3.10/site-packages/plotnine/ggplot.py:718: PlotnineWarning: Saving 6 x 6 in image.\n",
      "/opt/homebrew/lib/python3.10/site-packages/plotnine/ggplot.py:719: PlotnineWarning: Filename: ./images/results_boxplots.png\n"
     ]
    }
   ],
   "source": [
    "ggsave(plot=fig, filename='./images/results_boxplots.png', dpi=300)"
   ]
  },
  {
   "cell_type": "code",
   "execution_count": null,
   "id": "3eb7458d",
   "metadata": {},
   "outputs": [],
   "source": []
  }
 ],
 "metadata": {
  "kernelspec": {
   "display_name": "Python (ipykernel1)",
   "language": "python",
   "name": "ipykernel1"
  },
  "language_info": {
   "codemirror_mode": {
    "name": "ipython",
    "version": 3
   },
   "file_extension": ".py",
   "mimetype": "text/x-python",
   "name": "python",
   "nbconvert_exporter": "python",
   "pygments_lexer": "ipython3",
   "version": "3.10.10"
  },
  "vscode": {
   "interpreter": {
    "hash": "b0fa6594d8f4cbf19f97940f81e996739fb7646882a419484c72d19e05852a7e"
   }
  }
 },
 "nbformat": 4,
 "nbformat_minor": 5
}
